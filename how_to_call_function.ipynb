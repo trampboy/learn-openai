{
 "cells": [
  {
   "cell_type": "markdown",
   "source": [
    "# 如何使用Chat Completions API 参数 functions"
   ],
   "metadata": {
    "collapsed": false
   }
  },
  {
   "cell_type": "markdown",
   "source": [
    "## 使用 openai"
   ],
   "metadata": {
    "collapsed": false
   }
  },
  {
   "cell_type": "code",
   "execution_count": 1,
   "outputs": [],
   "source": [
    "import openai\n",
    "\n",
    "GPT_MODEL = \"gpt-3.5-turbo-0613\"\n",
    "\n",
    "function_descriptions = [\n",
    "    {\n",
    "      \"name\": \"get_current_weather\",\n",
    "      \"description\": \"Get the current weather in a given location\",\n",
    "      \"parameters\": {\n",
    "        \"type\": \"object\",\n",
    "        \"properties\": {\n",
    "          \"location\": {\n",
    "            \"type\": \"string\",\n",
    "            \"description\": \"The city and state, e.g. San Francisco, CA\"\n",
    "          },\n",
    "          \"unit\": {\n",
    "            \"type\": \"string\",\n",
    "            \"enum\": [\"celsius\", \"fahrenheit\"]\n",
    "          }\n",
    "        },\n",
    "        \"required\": [\"location\"]\n",
    "      }\n",
    "    }\n",
    "  ]\n",
    "\n",
    "user_query = \"What is the weather like in Boston?\""
   ],
   "metadata": {
    "collapsed": false,
    "ExecuteTime": {
     "end_time": "2023-08-09T14:49:49.681397Z",
     "start_time": "2023-08-09T14:49:49.488899Z"
    }
   }
  },
  {
   "cell_type": "markdown",
   "source": [
    "### 把问题与函数定义交给 function call，自动选择合适的函数"
   ],
   "metadata": {
    "collapsed": false
   }
  },
  {
   "cell_type": "code",
   "execution_count": 3,
   "outputs": [
    {
     "name": "stdout",
     "output_type": "stream",
     "text": [
      "{\n",
      "  \"role\": \"assistant\",\n",
      "  \"content\": null,\n",
      "  \"function_call\": {\n",
      "    \"name\": \"get_current_weather\",\n",
      "    \"arguments\": \"{\\n  \\\"location\\\": \\\"Boston, MA\\\"\\n}\"\n",
      "  }\n",
      "}\n"
     ]
    }
   ],
   "source": [
    "response = openai.ChatCompletion.create(\n",
    "    model=GPT_MODEL,\n",
    "    messages=[{\"role\": \"user\", \"content\": user_query}],\n",
    "    functions=function_descriptions,\n",
    "    function_call=\"auto\",\n",
    ")\n",
    "response_message = response[\"choices\"][0][\"message\"]\n",
    "print(response_message)"
   ],
   "metadata": {
    "collapsed": false,
    "ExecuteTime": {
     "end_time": "2023-08-09T14:50:38.450062Z",
     "start_time": "2023-08-09T14:50:34.483833Z"
    }
   }
  },
  {
   "cell_type": "code",
   "execution_count": null,
   "outputs": [],
   "source": [
    "### 调用 function call 选择的函数，得到返回值"
   ],
   "metadata": {
    "collapsed": false
   }
  },
  {
   "cell_type": "code",
   "execution_count": 7,
   "outputs": [
    {
     "name": "stdout",
     "output_type": "stream",
     "text": [
      "{\"temperature\": 22, \"unit\": \"celsius\", \"description\": \"Sunny\", \"location\": \"Boston, MA\"}\n"
     ]
    }
   ],
   "source": [
    "import json\n",
    "import inspect\n",
    "\n",
    "def get_function_parameter_names(function):\n",
    "  if function is not None and inspect.isfunction(function):\n",
    "      parameter_names = inspect.signature(function).parameters.keys()\n",
    "      return list(parameter_names)\n",
    "  else:\n",
    "      return None\n",
    "\n",
    "# Locate the function and make the call\n",
    "def cal_function(_function_name, _arguments):\n",
    "    the_function = globals().get(_function_name)\n",
    "    parameter_names = get_function_parameter_names(the_function)\n",
    "    parameter_values = []\n",
    "    for parameter_name in parameter_names:\n",
    "      parameter_values.append(_arguments[parameter_name])\n",
    "    return the_function(*parameter_values)\n",
    "\n",
    "def get_current_weather(location):\n",
    "    return json.dumps({ \"temperature\": 22, \"unit\": \"celsius\", \"description\": \"Sunny\", \"location\": location })\n",
    "\n",
    "function_name = response_message[\"function_call\"][\"name\"]\n",
    "arguments = json.loads(response_message[\"function_call\"][\"arguments\"])\n",
    "returned_value = cal_function(function_name, arguments)\n",
    "print(returned_value)"
   ],
   "metadata": {
    "collapsed": false,
    "ExecuteTime": {
     "end_time": "2023-08-09T14:53:06.652031Z",
     "start_time": "2023-08-09T14:53:06.650485Z"
    }
   }
  },
  {
   "cell_type": "code",
   "execution_count": null,
   "outputs": [],
   "source": [
    "### 将响应再次发送给模型，让其进行总结"
   ],
   "metadata": {
    "collapsed": false
   }
  },
  {
   "cell_type": "code",
   "execution_count": 8,
   "outputs": [
    {
     "name": "stdout",
     "output_type": "stream",
     "text": [
      "{\n",
      "  \"id\": \"chatcmpl-7ler8OVrOnxd76Ovb8xkyyQxo9x2K\",\n",
      "  \"object\": \"chat.completion\",\n",
      "  \"created\": 1691592822,\n",
      "  \"model\": \"gpt-3.5-turbo-0613\",\n",
      "  \"choices\": [\n",
      "    {\n",
      "      \"index\": 0,\n",
      "      \"message\": {\n",
      "        \"role\": \"assistant\",\n",
      "        \"content\": \"The weather in Boston is currently sunny with a temperature of 22 degrees Celsius.\"\n",
      "      },\n",
      "      \"finish_reason\": \"stop\"\n",
      "    }\n",
      "  ],\n",
      "  \"usage\": {\n",
      "    \"prompt_tokens\": 70,\n",
      "    \"completion_tokens\": 16,\n",
      "    \"total_tokens\": 86\n",
      "  }\n",
      "}\n"
     ]
    }
   ],
   "source": [
    "second_response = openai.ChatCompletion.create(\n",
    "    model=GPT_MODEL,\n",
    "    messages=[\n",
    "        {\"role\": \"user\", \"content\": user_query},\n",
    "        response_message,\n",
    "        {\n",
    "            \"role\": \"function\",\n",
    "            \"name\": \"get_current_weather\",\n",
    "            \"content\": returned_value,\n",
    "        },\n",
    "    ],\n",
    ")\n",
    "print(second_response)"
   ],
   "metadata": {
    "collapsed": false,
    "ExecuteTime": {
     "end_time": "2023-08-09T14:53:43.653615Z",
     "start_time": "2023-08-09T14:53:39.414395Z"
    }
   }
  },
  {
   "cell_type": "markdown",
   "source": [
    "## 使用 LangChain Agent\n"
   ],
   "metadata": {
    "collapsed": false
   }
  },
  {
   "cell_type": "code",
   "execution_count": 11,
   "outputs": [
    {
     "name": "stdout",
     "output_type": "stream",
     "text": [
      "\n",
      "\n",
      "\u001B[1m> Entering new AgentExecutor chain...\u001B[0m\n"
     ]
    },
    {
     "name": "stderr",
     "output_type": "stream",
     "text": [
      "Retrying langchain.chat_models.openai.ChatOpenAI.completion_with_retry.<locals>._completion_with_retry in 1.0 seconds as it raised APIConnectionError: Error communicating with OpenAI: ('Connection aborted.', ConnectionResetError(54, 'Connection reset by peer')).\n"
     ]
    },
    {
     "name": "stdout",
     "output_type": "stream",
     "text": [
      "\u001B[32;1m\u001B[1;3m\n",
      "Invoking: `get_current_weather` with `{'location': 'Boston'}`\n",
      "\n",
      "\n",
      "\u001B[0m\u001B[36;1m\u001B[1;3m{\"temperature\": 22, \"unit\": \"celsius\", \"description\": \"Sunny\", \"location\": \"Boston\"}\u001B[0m\u001B[32;1m\u001B[1;3mThe current weather in Boston is sunny with a temperature of 22 degrees Celsius.\u001B[0m\n",
      "\n",
      "\u001B[1m> Finished chain.\u001B[0m\n",
      "The current weather in Boston is sunny with a temperature of 22 degrees Celsius.\n"
     ]
    }
   ],
   "source": [
    "from langchain.chat_models import ChatOpenAI\n",
    "from langchain.tools import tool\n",
    "\n",
    "# 在 function description 中描述参数结构，LLM 可能会自动识别，但最好还是配置 args_schema\n",
    "@tool(\"get_current_weather\")\n",
    "def get_current_weather(location):\n",
    "    \"\"\"Get the current weather in a given location\"\"\"\n",
    "    return json.dumps({ \"temperature\": 22, \"unit\": \"celsius\", \"description\": \"Sunny\", \"location\": location })\n",
    "\n",
    "# 工具是给 agent 自动分析使用\n",
    "tools = [get_current_weather]\n",
    "\n",
    "question_format_str = \"What is the weather like in Boston?\"\n",
    "\n",
    "from langchain.agents import initialize_agent\n",
    "from langchain.agents import AgentType\n",
    "\n",
    "llm = ChatOpenAI(model_name=GPT_MODEL, temperature=0)\n",
    "\n",
    "agent = initialize_agent(tools, llm, agent=AgentType.OPENAI_MULTI_FUNCTIONS, verbose=True)\n",
    "agent_response = agent.run(question_format_str)\n",
    "print(agent_response)"
   ],
   "metadata": {
    "collapsed": false,
    "ExecuteTime": {
     "end_time": "2023-08-09T15:03:07.624041Z",
     "start_time": "2023-08-09T15:02:53.524976Z"
    }
   }
  },
  {
   "cell_type": "code",
   "execution_count": null,
   "outputs": [],
   "source": [],
   "metadata": {
    "collapsed": false
   }
  }
 ],
 "metadata": {
  "kernelspec": {
   "name": "learning-large-model",
   "language": "python",
   "display_name": "learning-large-model"
  },
  "language_info": {
   "codemirror_mode": {
    "name": "ipython",
    "version": 2
   },
   "file_extension": ".py",
   "mimetype": "text/x-python",
   "name": "python",
   "nbconvert_exporter": "python",
   "pygments_lexer": "ipython2",
   "version": "2.7.6"
  }
 },
 "nbformat": 4,
 "nbformat_minor": 0
}
